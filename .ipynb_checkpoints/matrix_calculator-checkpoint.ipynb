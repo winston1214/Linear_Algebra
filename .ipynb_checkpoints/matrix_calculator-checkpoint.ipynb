{
 "cells": [
  {
   "cell_type": "markdown",
   "metadata": {},
   "source": [
    "# 처음에 런타임 -> 모두 실행 꼭 누르기"
   ]
  },
  {
   "cell_type": "markdown",
   "metadata": {},
   "source": [
    "## 셀 실행하는 방법 shift + enter"
   ]
  },
  {
   "cell_type": "code",
   "execution_count": 1,
   "metadata": {},
   "outputs": [],
   "source": [
    "import numpy as np"
   ]
  },
  {
   "cell_type": "markdown",
   "metadata": {},
   "source": [
    "# 행렬곱"
   ]
  },
  {
   "cell_type": "code",
   "execution_count": 2,
   "metadata": {},
   "outputs": [],
   "source": [
    "def dot(arr1,arr2,n1,n2): # 행렬곱\n",
    "    x = np.array(arr1).reshape(n1,-1)\n",
    "    y = np.array(arr2).reshape(n2,-1)\n",
    "    return np.dot(x,y)"
   ]
  },
  {
   "cell_type": "markdown",
   "metadata": {},
   "source": [
    "### 행렬곱 하는 법 dot\n",
    "- dot(행렬 A, 행렬 B, A행의 개수, B행의 개수)\n",
    "\n",
    "    1. **x에 첫번째 행렬**을 넣는다. **대괄호 필수!!**\n",
    "    2. **y에 두번째 행렬**을 넣는다. **대괄호 필수!!**\n",
    "    3. dot(x,y,2,3) 이 부분에서 **2,3 만 수정**한다.여기서 **2,3은 첫번째 행렬의 행 개수, 두번째 행렬의 행 개수임**"
   ]
  },
  {
   "cell_type": "code",
   "execution_count": 3,
   "metadata": {},
   "outputs": [
    {
     "data": {
      "text/plain": [
       "array([[30, 36, 42],\n",
       "       [66, 81, 96]])"
      ]
     },
     "execution_count": 3,
     "metadata": {},
     "output_type": "execute_result"
    }
   ],
   "source": [
    "x = [1,2,3,4,5,6] # 여기에 행렬 넣으세요!\n",
    "y = [1,2,3,4,5,6,7,8,9] # 여기에 행렬 넣으세요!\n",
    "dot(x,y,2,3) # 여기에서 2의 의미는 첫번째 행렬 A의 행의 개수, 3은 두번째 행렬 B의 행의 개수"
   ]
  },
  {
   "cell_type": "code",
   "execution_count": null,
   "metadata": {},
   "outputs": [],
   "source": []
  },
  {
   "cell_type": "code",
   "execution_count": null,
   "metadata": {},
   "outputs": [],
   "source": []
  },
  {
   "cell_type": "code",
   "execution_count": null,
   "metadata": {},
   "outputs": [],
   "source": []
  },
  {
   "cell_type": "code",
   "execution_count": null,
   "metadata": {},
   "outputs": [],
   "source": []
  },
  {
   "cell_type": "code",
   "execution_count": null,
   "metadata": {},
   "outputs": [],
   "source": []
  },
  {
   "cell_type": "markdown",
   "metadata": {},
   "source": [
    "# 행렬식"
   ]
  },
  {
   "cell_type": "code",
   "execution_count": 4,
   "metadata": {},
   "outputs": [],
   "source": [
    "def det(arr1,n): # 행렬식\n",
    "    x = np.array(arr1).reshape(n,-1)\n",
    "    return np.linalg.det(x)"
   ]
  },
  {
   "cell_type": "markdown",
   "metadata": {},
   "source": [
    "### 행렬식 det 구하는 법\n",
    "- det(행렬A, 행렬A의 행의 개수)\n",
    "    \n",
    "    1. **x 에 행렬**을 넣는다. **대괄호 필수!**\n",
    "    2. **det(x,2) 에서 2를 행렬의 행의 개수로 바꾼다.**"
   ]
  },
  {
   "cell_type": "code",
   "execution_count": 5,
   "metadata": {},
   "outputs": [
    {
     "data": {
      "text/plain": [
       "1.0"
      ]
     },
     "execution_count": 5,
     "metadata": {},
     "output_type": "execute_result"
    }
   ],
   "source": [
    "x = [1,0,0,1] # 여기에 행렬 넣으세요!\n",
    "det(x,2)"
   ]
  },
  {
   "cell_type": "code",
   "execution_count": null,
   "metadata": {},
   "outputs": [],
   "source": []
  },
  {
   "cell_type": "code",
   "execution_count": null,
   "metadata": {},
   "outputs": [],
   "source": []
  },
  {
   "cell_type": "code",
   "execution_count": null,
   "metadata": {},
   "outputs": [],
   "source": []
  },
  {
   "cell_type": "code",
   "execution_count": null,
   "metadata": {},
   "outputs": [],
   "source": []
  },
  {
   "cell_type": "markdown",
   "metadata": {},
   "source": [
    "# 역행렬"
   ]
  },
  {
   "cell_type": "code",
   "execution_count": 6,
   "metadata": {},
   "outputs": [],
   "source": [
    "def inverse(arr,n):\n",
    "    x = np.array([arr]).reshape(n,-1)\n",
    "    return np.linalg.inv(x)"
   ]
  },
  {
   "cell_type": "markdown",
   "metadata": {},
   "source": [
    "### 역행렬 inverse 하는 법\n",
    "- inverse(행렬A, 행렬A의 행의 개수)\n",
    "\n",
    "    1. **x 에 행렬**을 넣는다. **대괄호 필수!**\n",
    "    2. **inverse(x,2) 에서 2를 행렬의 행의 개수로 바꾼다.**"
   ]
  },
  {
   "cell_type": "code",
   "execution_count": 7,
   "metadata": {},
   "outputs": [
    {
     "data": {
      "text/plain": [
       "array([[-2. ,  1. ],\n",
       "       [ 1.5, -0.5]])"
      ]
     },
     "execution_count": 7,
     "metadata": {},
     "output_type": "execute_result"
    }
   ],
   "source": [
    "x = [1,2,3,4] # 여기에 행렬을 넣으세요!\n",
    "inverse(x,2)"
   ]
  },
  {
   "cell_type": "code",
   "execution_count": null,
   "metadata": {},
   "outputs": [],
   "source": []
  },
  {
   "cell_type": "code",
   "execution_count": null,
   "metadata": {},
   "outputs": [],
   "source": []
  },
  {
   "cell_type": "code",
   "execution_count": null,
   "metadata": {},
   "outputs": [],
   "source": []
  },
  {
   "cell_type": "code",
   "execution_count": null,
   "metadata": {},
   "outputs": [],
   "source": []
  },
  {
   "cell_type": "code",
   "execution_count": null,
   "metadata": {},
   "outputs": [],
   "source": []
  },
  {
   "cell_type": "code",
   "execution_count": null,
   "metadata": {},
   "outputs": [],
   "source": []
  },
  {
   "cell_type": "markdown",
   "metadata": {},
   "source": [
    "# 연립 방정식 해 풀기"
   ]
  },
  {
   "cell_type": "code",
   "execution_count": 8,
   "metadata": {},
   "outputs": [],
   "source": [
    "def solve(arr1,arr2,n):\n",
    "    x = np.array(arr1).reshape(n,-1)\n",
    "    y = np.array(arr2)\n",
    "    return np.linalg.solve(x,y)"
   ]
  },
  {
   "cell_type": "markdown",
   "metadata": {},
   "source": [
    "<img src='https://t1.daumcdn.net/cfile/tistory/99FE4B3B5B7403642C'></img>"
   ]
  },
  {
   "cell_type": "markdown",
   "metadata": {},
   "source": [
    "### 연립방정식 해 구하기(solve)\n",
    "\n",
    "- solve(우변의 행렬, 좌변의 값들,식의 개수)\n",
    "\n",
    "    1. **A에 우변 행렬**을 넣는다.(위 사진으로 예시를 들면 [4,3,3,2] 넣기)\n",
    "    2. **b에 좌변 행렬**을 넣는다.(위 사진으로 예시를 들면 [23,16] 넣기)\n",
    "    3. solve(A,b,2) 에서 2는 식의 개수를 의미한다. 따라서 **이 숫자만 바꾸면 됨!**"
   ]
  },
  {
   "cell_type": "code",
   "execution_count": 9,
   "metadata": {},
   "outputs": [
    {
     "data": {
      "text/plain": [
       "array([2., 5.])"
      ]
     },
     "execution_count": 9,
     "metadata": {},
     "output_type": "execute_result"
    }
   ],
   "source": [
    "A = [4,3,3,2] # 여기에 좌변 행렬 넣기!\n",
    "b = [23,16] # 여기에 우변 행렬 넣기!\n",
    "solve(A,b,2)"
   ]
  },
  {
   "cell_type": "code",
   "execution_count": null,
   "metadata": {},
   "outputs": [],
   "source": []
  },
  {
   "cell_type": "code",
   "execution_count": 11,
   "metadata": {},
   "outputs": [
    {
     "data": {
      "text/plain": [
       "array([ 0.,  0., -0.,  0.])"
      ]
     },
     "execution_count": 11,
     "metadata": {},
     "output_type": "execute_result"
    }
   ],
   "source": [
    "A = [1,2,1,1,+1,3,4,-1,4,3,4,3,3,3,2,1]\n",
    "b = [0,0,0,0]\n",
    "solve(A,b,4)"
   ]
  },
  {
   "cell_type": "code",
   "execution_count": null,
   "metadata": {},
   "outputs": [],
   "source": []
  },
  {
   "cell_type": "code",
   "execution_count": null,
   "metadata": {},
   "outputs": [],
   "source": []
  },
  {
   "cell_type": "code",
   "execution_count": null,
   "metadata": {},
   "outputs": [],
   "source": []
  }
 ],
 "metadata": {
  "kernelspec": {
   "display_name": "Python 3",
   "language": "python",
   "name": "python3"
  },
  "language_info": {
   "codemirror_mode": {
    "name": "ipython",
    "version": 3
   },
   "file_extension": ".py",
   "mimetype": "text/x-python",
   "name": "python",
   "nbconvert_exporter": "python",
   "pygments_lexer": "ipython3",
   "version": "3.7.1"
  }
 },
 "nbformat": 4,
 "nbformat_minor": 4
}
